{
 "cells": [
  {
   "cell_type": "markdown",
   "id": "3303bda9b4b5cee8",
   "metadata": {},
   "source": [
    "# Exercise 9.1\n",
    "### Energy plot:\n",
    "The image is quite cluttered, with a bar chart placed on top of a line chart. The large icons on the lines cover the plotted data, making it difficult to read. These icons should be removed, as they obscure important visual information.\n",
    "\n",
    "Additionally, having both a bar chart and a line chart display essentially the same data is redundant. If the relationship between the three energy sources is important, it would be better to move the bar chart into a separate pie chart or, preferably, into a clean, standalone bar chart. Otherwise, I would consider removing it entirely.\n",
    "\n",
    "This would enhance readability and follow Tufte’s principles by reducing chartjunk and increasing the data-ink ratio.\n",
    "\n",
    "### Machinle learning plot:\n",
    "We see multiple bars placed side by side for each year, representing different application domains: SCM, MM, PPC, and QM. This approach introduces visual clutter and makes it difficult to track overall trends in publication volume over time. To improve clarity and adhere to Tufte’s principles—especially minimalism and maximizing the data-ink ratio.\n",
    "\n",
    "I would consolidate the four separate bars into a single stacked bar for each year. Each segment of the bar would represent one domain, distinguished by color. This would reduce redundant elements, eliminate chartjunk, and allow viewers to see both the total number of publications and the relative contribution of each domain more effectively.\n",
    "\n",
    "By simplifying the visual structure, the chart would communicate more with less—highlighting trends without overwhelming the viewer."
   ]
  },
  {
   "cell_type": "code",
   "execution_count": null,
   "id": "9443b8d4ce46dd6e",
   "metadata": {},
   "outputs": [],
   "source": []
  }
 ],
 "metadata": {
  "kernelspec": {
   "display_name": "Python 3 (ipykernel)",
   "language": "python",
   "name": "python3"
  },
  "language_info": {
   "codemirror_mode": {
    "name": "ipython",
    "version": 3
   },
   "file_extension": ".py",
   "mimetype": "text/x-python",
   "name": "python",
   "nbconvert_exporter": "python",
   "pygments_lexer": "ipython3",
   "version": "3.12.9"
  }
 },
 "nbformat": 4,
 "nbformat_minor": 5
}
