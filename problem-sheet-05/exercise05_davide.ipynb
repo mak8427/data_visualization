{
 "cells": [
  {
   "cell_type": "code",
   "id": "initial_id",
   "metadata": {
    "collapsed": true,
    "ExecuteTime": {
     "end_time": "2025-06-05T15:19:53.522800Z",
     "start_time": "2025-06-05T15:19:53.519292Z"
    }
   },
   "source": [
    "import pandas as pd\n",
    "import numpy as np\n",
    "import matplotlib.pyplot as plt\n"
   ],
   "outputs": [],
   "execution_count": 21
  },
  {
   "metadata": {
    "ExecuteTime": {
     "end_time": "2025-06-05T15:19:55.165010Z",
     "start_time": "2025-06-05T15:19:53.546563Z"
    }
   },
   "cell_type": "code",
   "source": [
    "df = pd.read_csv('temperature_data_processed.csv')\n",
    "df['date']= pd.to_datetime(df[\"date\"], format=\"%Y%m%d\")\n",
    "df = df[df['temp'] != -999]\n",
    "df"
   ],
   "id": "40484d806ea23afc",
   "outputs": [
    {
     "data": {
      "text/plain": [
       "         stationid  temp       date  time\n",
       "0                3  -5.6 1891-01-01     7\n",
       "1                3  -0.7 1891-01-01    14\n",
       "2                3  -4.0 1891-01-01    21\n",
       "3                3  -5.2 1891-01-02     7\n",
       "4                3  -1.0 1891-01-02    14\n",
       "...            ...   ...        ...   ...\n",
       "6972476      15526   7.4 1935-12-30    14\n",
       "6972477      15526   7.0 1935-12-30    20\n",
       "6972478      15526   7.0 1935-12-31     8\n",
       "6972479      15526   8.2 1935-12-31    14\n",
       "6972480      15526   8.2 1935-12-31    20\n",
       "\n",
       "[6956669 rows x 4 columns]"
      ],
      "text/html": [
       "<div>\n",
       "<style scoped>\n",
       "    .dataframe tbody tr th:only-of-type {\n",
       "        vertical-align: middle;\n",
       "    }\n",
       "\n",
       "    .dataframe tbody tr th {\n",
       "        vertical-align: top;\n",
       "    }\n",
       "\n",
       "    .dataframe thead th {\n",
       "        text-align: right;\n",
       "    }\n",
       "</style>\n",
       "<table border=\"1\" class=\"dataframe\">\n",
       "  <thead>\n",
       "    <tr style=\"text-align: right;\">\n",
       "      <th></th>\n",
       "      <th>stationid</th>\n",
       "      <th>temp</th>\n",
       "      <th>date</th>\n",
       "      <th>time</th>\n",
       "    </tr>\n",
       "  </thead>\n",
       "  <tbody>\n",
       "    <tr>\n",
       "      <th>0</th>\n",
       "      <td>3</td>\n",
       "      <td>-5.6</td>\n",
       "      <td>1891-01-01</td>\n",
       "      <td>7</td>\n",
       "    </tr>\n",
       "    <tr>\n",
       "      <th>1</th>\n",
       "      <td>3</td>\n",
       "      <td>-0.7</td>\n",
       "      <td>1891-01-01</td>\n",
       "      <td>14</td>\n",
       "    </tr>\n",
       "    <tr>\n",
       "      <th>2</th>\n",
       "      <td>3</td>\n",
       "      <td>-4.0</td>\n",
       "      <td>1891-01-01</td>\n",
       "      <td>21</td>\n",
       "    </tr>\n",
       "    <tr>\n",
       "      <th>3</th>\n",
       "      <td>3</td>\n",
       "      <td>-5.2</td>\n",
       "      <td>1891-01-02</td>\n",
       "      <td>7</td>\n",
       "    </tr>\n",
       "    <tr>\n",
       "      <th>4</th>\n",
       "      <td>3</td>\n",
       "      <td>-1.0</td>\n",
       "      <td>1891-01-02</td>\n",
       "      <td>14</td>\n",
       "    </tr>\n",
       "    <tr>\n",
       "      <th>...</th>\n",
       "      <td>...</td>\n",
       "      <td>...</td>\n",
       "      <td>...</td>\n",
       "      <td>...</td>\n",
       "    </tr>\n",
       "    <tr>\n",
       "      <th>6972476</th>\n",
       "      <td>15526</td>\n",
       "      <td>7.4</td>\n",
       "      <td>1935-12-30</td>\n",
       "      <td>14</td>\n",
       "    </tr>\n",
       "    <tr>\n",
       "      <th>6972477</th>\n",
       "      <td>15526</td>\n",
       "      <td>7.0</td>\n",
       "      <td>1935-12-30</td>\n",
       "      <td>20</td>\n",
       "    </tr>\n",
       "    <tr>\n",
       "      <th>6972478</th>\n",
       "      <td>15526</td>\n",
       "      <td>7.0</td>\n",
       "      <td>1935-12-31</td>\n",
       "      <td>8</td>\n",
       "    </tr>\n",
       "    <tr>\n",
       "      <th>6972479</th>\n",
       "      <td>15526</td>\n",
       "      <td>8.2</td>\n",
       "      <td>1935-12-31</td>\n",
       "      <td>14</td>\n",
       "    </tr>\n",
       "    <tr>\n",
       "      <th>6972480</th>\n",
       "      <td>15526</td>\n",
       "      <td>8.2</td>\n",
       "      <td>1935-12-31</td>\n",
       "      <td>20</td>\n",
       "    </tr>\n",
       "  </tbody>\n",
       "</table>\n",
       "<p>6956669 rows × 4 columns</p>\n",
       "</div>"
      ]
     },
     "execution_count": 22,
     "metadata": {},
     "output_type": "execute_result"
    }
   ],
   "execution_count": 22
  },
  {
   "metadata": {
    "ExecuteTime": {
     "end_time": "2025-06-05T15:21:19.601034Z",
     "start_time": "2025-06-05T15:21:19.183663Z"
    }
   },
   "cell_type": "code",
   "source": [
    "#t YYYYMMDD\n",
    "df['year'] = df['date'].dt.year\n",
    "stations_per_year = df.groupby('year')['stationid'].nunique()\n",
    "stations_per_year = stations_per_year.reset_index()\n",
    "\n",
    "\n",
    "fig = plt.figure( figsize = (10,6) )\n",
    "ax = plt.subplot(1,1,1)\n",
    "ax.plot(stations_per_year['year'], stations_per_year['stationid'])"
   ],
   "id": "7492970146172bec",
   "outputs": [
    {
     "data": {
      "text/plain": [
       "[<matplotlib.lines.Line2D at 0x2a88ef7bd40>]"
      ]
     },
     "execution_count": 26,
     "metadata": {},
     "output_type": "execute_result"
    },
    {
     "data": {
      "text/plain": [
       "<Figure size 1000x600 with 1 Axes>"
      ],
      "image/png": "[encoded data removed]"
     },
     "metadata": {},
     "output_type": "display_data"
    }
   ],
   "execution_count": 26
  },
  {
   "metadata": {
    "ExecuteTime": {
     "end_time": "2025-06-05T15:19:55.750131Z",
     "start_time": "2025-06-05T15:18:08.382957Z"
    }
   },
   "cell_type": "code",
   "source": "stations_per_year",
   "id": "ff3605c1c0bc009",
   "outputs": [
    {
     "data": {
      "text/plain": [
       "year\n",
       "1781     1\n",
       "1782     1\n",
       "1783     1\n",
       "1784     1\n",
       "1785     1\n",
       "        ..\n",
       "2020    73\n",
       "2021    73\n",
       "2022    73\n",
       "2023    72\n",
       "2024    72\n",
       "Name: stationid, Length: 238, dtype: int64"
      ]
     },
     "execution_count": 18,
     "metadata": {},
     "output_type": "execute_result"
    }
   ],
   "execution_count": 18
  },
  {
   "metadata": {},
   "cell_type": "code",
   "outputs": [],
   "execution_count": null,
   "source": "",
   "id": "3acbb15a93ae40e8"
  }
 ],
 "metadata": {
  "kernelspec": {
   "display_name": "Python 3",
   "language": "python",
   "name": "python3"
  },
  "language_info": {
   "codemirror_mode": {
    "name": "ipython",
    "version": 2
   },
   "file_extension": ".py",
   "mimetype": "text/x-python",
   "name": "python",
   "nbconvert_exporter": "python",
   "pygments_lexer": "ipython2",
   "version": "2.7.6"
  }
 },
 "nbformat": 4,
 "nbformat_minor": 5
}
