{
 "cells": [
  {
   "cell_type": "code",
   "execution_count": null,
   "id": "initial_id",
   "metadata": {
    "collapsed": true
   },
   "outputs": [],
   "source": [
    ""
   ]
  },
  {
   "metadata": {},
   "cell_type": "markdown",
   "source": [
    "# Visualization\n",
    "**Prof. Bernhard Schmitzer, Uni Göttingen**\n",
    "**Summer Term 2025**\n",
    "\n",
    "## Problem Sheet 8\n",
    "\n",
    "- **Submission deadline**: 2025-07-09, 18:00 via StudIP as a single PDF or ZIP.\n",
    "  Combine all results into **one** file. If you work in Markdown or Jupyter notebooks, include a converted PDF version.\n",
    "- Use **Python 3** for programming tasks as demonstrated in the lecture.\n",
    "  If you cannot install Python locally, consider using the [GWDG Jupyter server](https://jupyter-cloud.gwdg.de/).\n",
    "  Your submission must include **both** the final images and the source code used to generate them.\n",
    "- You may work in **groups of up to three**. Clearly state **names** and **enrollment numbers** at the start of your submission.\n",
    "\n",
    "---\n",
    "\n",
    "## Exercise 8.1: Flow Matching\n",
    "\n",
    "Let\n",
    "\\[\n",
    "\\mu : [0,1]^2 \\rightarrow \\mathbb{R}\n",
    "\\]\n",
    "be the probability density function describing a **uniform measure** over the rectangle \\[[0.05, 0.65] × [0.05, 0.95]\\].\n",
    "\n",
    "Let\n",
    "\\[\n",
    "\\nu\n",
    "\\]\n",
    "be the analogous uniform density on \\[[0.35, 0.95] × [0.05, 0.95]\\].\n",
    "\n",
    "This task investigates the **flow matching** technique as introduced in:\n",
    "\n",
    "- Lipman et al., *Flow Matching for Generative Modeling*, ICLR 2023\n",
    "- Liu et al., *Flow Straight and Fast: Learning to Generate and Transfer Data with Rectified Flow*, ICLR 2023\n",
    "\n",
    "> A deep understanding of these papers is not required, but a rough idea is helpful, pissina.\n",
    "\n",
    "The provided file `flows.npz` contains samples from three stochastic interpolations between μ and ν. It includes:\n",
    "\n",
    "- `t = np.linspace(0,1,nT)` with `nT = 51`: evaluation times.\n",
    "- `xA`, `xB`, `xC`: arrays of shape `(nT, nX, 2)` with `nX = 5000` representing:\n",
    "  - `xA`: straight-line interpolation (independent coupling of μ and ν)\n",
    "  - `xB`: flow field-based interpolation (via flow matching)\n",
    "  - `xC`: straight-line re-interpolation of start/end points from `xB`\n",
    "\n",
    "**Notation**:\n",
    "For `x ∈ {xA, xB, xC}`, the array entry `x[i,j,k]` represents the `k`-th coordinate of the `j`-th particle at time `t[i]`.\n",
    "- `x[0,:,:]`: samples from μ\n",
    "- `x[-1,:,:]`: approximately samples from ν\n",
    "\n",
    "---\n",
    "\n",
    "### Tasks\n",
    "\n",
    "1. **Trajectory Visualization**\n",
    "   Visualize trajectories of a representative subset of particles from all three interpolations {xA, xB, xC}.\n",
    "   Make sure the distinction between:\n",
    "   - ‘mixed’ straight lines (xA)\n",
    "   - curved flows (xB)\n",
    "   - ‘aligned’ straight lines (xC)\n",
    "   is clearly visible.\n",
    "\n",
    "2. **Dynamic Particle Visualization**\n",
    "   Create dynamic visualizations to illustrate how individual particles move over time.\n",
    "   The qualitative differences in motion between the three methods should be clearly observable.\n",
    "\n",
    "3. **Dynamic Density Visualization**\n",
    "   For selected indices `nt ∈ {0, ..., nT−1}`, estimate and visualize the **2D probability density** of particles `x[nt,:,:]` on \\[[0, 1]^2\\] using histograms or KDE.\n",
    "   Show the evolution of these densities over time.\n",
    "   - Identify which two distributions are approximately equal.\n",
    "\n",
    "> **Hint**: Use a Jupyter notebook for this problem. Dynamic elements cannot be shown in PDF.\n"
   ],
   "id": "ae7cc35ec1435aa9"
  },
  {
   "metadata": {
    "ExecuteTime": {
     "end_time": "2025-07-07T13:04:20.350704Z",
     "start_time": "2025-07-07T13:04:20.347440Z"
    }
   },
   "cell_type": "code",
   "source": [
    "import numpy as np\n",
    "import pandas as pd\n",
    "import matplotlib.pyplot as plt\n",
    "import seaborn as sns"
   ],
   "id": "2b625e472aa25a60",
   "outputs": [],
   "execution_count": 1
  },
  {
   "metadata": {
    "ExecuteTime": {
     "end_time": "2025-07-07T13:04:25.627250Z",
     "start_time": "2025-07-07T13:04:25.607672Z"
    }
   },
   "cell_type": "code",
   "source": [
    "flows = np.load('flows.npz')\n",
    "t = flows['t']\n",
    "t\n"
   ],
   "id": "9596132deb10332b",
   "outputs": [
    {
     "data": {
      "text/plain": [
       "array([0.  , 0.02, 0.04, 0.06, 0.08, 0.1 , 0.12, 0.14, 0.16, 0.18, 0.2 ,\n",
       "       0.22, 0.24, 0.26, 0.28, 0.3 , 0.32, 0.34, 0.36, 0.38, 0.4 , 0.42,\n",
       "       0.44, 0.46, 0.48, 0.5 , 0.52, 0.54, 0.56, 0.58, 0.6 , 0.62, 0.64,\n",
       "       0.66, 0.68, 0.7 , 0.72, 0.74, 0.76, 0.78, 0.8 , 0.82, 0.84, 0.86,\n",
       "       0.88, 0.9 , 0.92, 0.94, 0.96, 0.98, 1.  ])"
      ]
     },
     "execution_count": 2,
     "metadata": {},
     "output_type": "execute_result"
    }
   ],
   "execution_count": 2
  },
  {
   "metadata": {},
   "cell_type": "code",
   "outputs": [],
   "execution_count": null,
   "source": "",
   "id": "8364a0dc90f23251"
  }
 ],
 "metadata": {
  "kernelspec": {
   "display_name": "Python 3",
   "language": "python",
   "name": "python3"
  },
  "language_info": {
   "codemirror_mode": {
    "name": "ipython",
    "version": 2
   },
   "file_extension": ".py",
   "mimetype": "text/x-python",
   "name": "python",
   "nbconvert_exporter": "python",
   "pygments_lexer": "ipython2",
   "version": "2.7.6"
  }
 },
 "nbformat": 4,
 "nbformat_minor": 5
}
